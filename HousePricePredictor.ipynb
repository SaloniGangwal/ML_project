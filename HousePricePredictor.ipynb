{
 "cells": [
  {
   "cell_type": "code",
   "execution_count": 1,
   "id": "d8c7549a-acd8-48be-8a63-d3ea1cf72384",
   "metadata": {},
   "outputs": [],
   "source": [
    "import pandas as pd"
   ]
  },
  {
   "cell_type": "code",
   "execution_count": 2,
   "id": "be71a2f6-fd98-4838-80c6-ae2dce58e088",
   "metadata": {},
   "outputs": [],
   "source": [
    "model=model = pd.read_pickle('HousePricePredictor')"
   ]
  },
  {
   "cell_type": "code",
   "execution_count": 3,
   "id": "0d264764-0320-4b63-8b99-370d85832648",
   "metadata": {},
   "outputs": [
    {
     "data": {
      "text/plain": [
       "LinearRegression()"
      ]
     },
     "execution_count": 3,
     "metadata": {},
     "output_type": "execute_result"
    }
   ],
   "source": [
    "model"
   ]
  },
  {
   "cell_type": "code",
   "execution_count": 4,
   "id": "03e3e2cc-7075-46e5-8c1e-f41a57aed3cd",
   "metadata": {},
   "outputs": [],
   "source": [
    "cols=['Avg. Area Income', 'Avg. Area House Age', 'Avg. Area Number of Rooms', 'Area Population']"
   ]
  },
  {
   "cell_type": "code",
   "execution_count": 8,
   "id": "186ad789-4a09-4870-be9d-6662dacd1347",
   "metadata": {},
   "outputs": [
    {
     "name": "stdin",
     "output_type": "stream",
     "text": [
      "Enter the income:  85000\n",
      "Enter the house age:  9\n",
      "Enter the no of rooms:  7\n",
      "Enter the population:  40000\n"
     ]
    }
   ],
   "source": [
    "income = eval(input('Enter the income: '))\n",
    "house_age=eval(input('Enter the house age: '))\n",
    "rooms= eval(input('Enter the no of rooms: '))\n",
    "population=eval(input('Enter the population: '))\n",
    "query=pd.DataFrame({'Avg. Area Income':[income],\n",
    "                          'Avg. Area House Age':[house_age],\n",
    "                          'Avg. Area Number of Rooms':[rooms], \n",
    "                          'Area Population':[population]})"
   ]
  },
  {
   "cell_type": "code",
   "execution_count": 9,
   "id": "903cb650-09e0-4229-ab71-e991d6213d4a",
   "metadata": {},
   "outputs": [
    {
     "data": {
      "text/html": [
       "<div>\n",
       "<style scoped>\n",
       "    .dataframe tbody tr th:only-of-type {\n",
       "        vertical-align: middle;\n",
       "    }\n",
       "\n",
       "    .dataframe tbody tr th {\n",
       "        vertical-align: top;\n",
       "    }\n",
       "\n",
       "    .dataframe thead th {\n",
       "        text-align: right;\n",
       "    }\n",
       "</style>\n",
       "<table border=\"1\" class=\"dataframe\">\n",
       "  <thead>\n",
       "    <tr style=\"text-align: right;\">\n",
       "      <th></th>\n",
       "      <th>Avg. Area Income</th>\n",
       "      <th>Avg. Area House Age</th>\n",
       "      <th>Avg. Area Number of Rooms</th>\n",
       "      <th>Area Population</th>\n",
       "    </tr>\n",
       "  </thead>\n",
       "  <tbody>\n",
       "    <tr>\n",
       "      <th>0</th>\n",
       "      <td>85000</td>\n",
       "      <td>9</td>\n",
       "      <td>7</td>\n",
       "      <td>40000</td>\n",
       "    </tr>\n",
       "  </tbody>\n",
       "</table>\n",
       "</div>"
      ],
      "text/plain": [
       "   Avg. Area Income  Avg. Area House Age  Avg. Area Number of Rooms  \\\n",
       "0             85000                    9                          7   \n",
       "\n",
       "   Area Population  \n",
       "0            40000  "
      ]
     },
     "execution_count": 9,
     "metadata": {},
     "output_type": "execute_result"
    }
   ],
   "source": [
    "query"
   ]
  },
  {
   "cell_type": "code",
   "execution_count": 10,
   "id": "83ff448b-e67f-4b35-81b7-262f0e080574",
   "metadata": {},
   "outputs": [
    {
     "data": {
      "text/plain": [
       "2146270.688386647"
      ]
     },
     "execution_count": 10,
     "metadata": {},
     "output_type": "execute_result"
    }
   ],
   "source": [
    "model.predict(query)[0]"
   ]
  },
  {
   "cell_type": "code",
   "execution_count": 12,
   "id": "e4fd81da-54b5-44d6-8566-2b738607a05d",
   "metadata": {},
   "outputs": [
    {
     "name": "stdout",
     "output_type": "stream",
     "text": [
      "Price for the house can be: 2146270.7$\n"
     ]
    }
   ],
   "source": [
    "print('Price for the house can be: %.1f$'%(model.predict(query)[0]))"
   ]
  },
  {
   "cell_type": "code",
   "execution_count": null,
   "id": "25ff2f35-4226-445c-90d9-ae630b61aad2",
   "metadata": {},
   "outputs": [],
   "source": []
  },
  {
   "cell_type": "code",
   "execution_count": null,
   "id": "8e74ab4d-ff4a-4a98-a5c5-44eb542dd64e",
   "metadata": {},
   "outputs": [],
   "source": []
  },
  {
   "cell_type": "code",
   "execution_count": null,
   "id": "9e735198-a0cc-4064-a745-ee4b44b2e5f4",
   "metadata": {},
   "outputs": [],
   "source": []
  },
  {
   "cell_type": "code",
   "execution_count": null,
   "id": "dbe10b86-1d9d-41a1-b8a4-60fb2c3b74e8",
   "metadata": {},
   "outputs": [],
   "source": []
  },
  {
   "cell_type": "code",
   "execution_count": null,
   "id": "7ee900e9-27b9-48b6-a106-0f8a448e2b31",
   "metadata": {},
   "outputs": [],
   "source": []
  }
 ],
 "metadata": {
  "kernelspec": {
   "display_name": "Python 3",
   "language": "python",
   "name": "python3"
  },
  "language_info": {
   "codemirror_mode": {
    "name": "ipython",
    "version": 3
   },
   "file_extension": ".py",
   "mimetype": "text/x-python",
   "name": "python",
   "nbconvert_exporter": "python",
   "pygments_lexer": "ipython3",
   "version": "3.8.8"
  }
 },
 "nbformat": 4,
 "nbformat_minor": 5
}
